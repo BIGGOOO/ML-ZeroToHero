{
 "cells": [
  {
   "cell_type": "markdown",
   "metadata": {
    "id": "OTbnV4K1CV4i"
   },
   "source": [
    "## **Hierarchical Clustering**\n",
    "\n",
    "Hierarchical clustering, also known as hierarchical cluster analysis, is an algorithm that groups similar objects into groups called clusters. The endpoint is a set of clusters, where each cluster is distinct from each other cluster, and the objects within each cluster are broadly similar to each other.\n",
    "\n",
    "**Divisive method\t**\t\n",
    "In divisive or top-down clustering method we assign all of the observations to a single cluster and then partition the cluster to two least similar clusters. Finally, we proceed recursively on each cluster until there is one cluster for each observation. There is evidence that divisive algorithms produce more accurate hierarchies than agglomerative  algorithms in some circumstances but is conceptually more complex.\t\t\n",
    " \t\t\n",
    "**Agglomerative method**\n",
    "\n",
    "In agglomerative or bottom-up clustering method we assign each observation to its own cluster. Then, compute the similarity (e.g., distance) between each of the clusters and join the two most similar clusters. Finally, repeat steps 2 and 3 until there is only a single cluster left.\n",
    "\n",
    "<img src =\"https://46gyn61z4i0t1u1pnq2bbk2e-wpengine.netdna-ssl.com/wp-content/uploads/2018/03/Screen-Shot-2018-03-28-at-11.48.48-am.png\">"
   ]
  },
  {
   "cell_type": "markdown",
   "metadata": {
    "id": "j3F3bpdAWNCO"
   },
   "source": [
    "## **Importing Libraries**"
   ]
  },
  {
   "cell_type": "code",
   "execution_count": 23,
   "metadata": {
    "id": "CPIMeNgoCjZL"
   },
   "outputs": [],
   "source": [
    "import matplotlib.pyplot as plt\n",
    "from scipy.cluster.hierarchy import linkage, dendrogram\n",
    "from sklearn.datasets.samples_generator import make_blobs\n",
    "import numpy as np"
   ]
  },
  {
   "cell_type": "markdown",
   "metadata": {
    "id": "4anySMcgqROX"
   },
   "source": [
    "## **Dataset Loading**\n",
    "\n"
   ]
  },
  {
   "cell_type": "code",
   "execution_count": 24,
   "metadata": {
    "id": "0DI825deAMua"
   },
   "outputs": [],
   "source": [
    "x,y = make_blobs(n_samples=50)"
   ]
  },
  {
   "cell_type": "code",
   "execution_count": 25,
   "metadata": {
    "id": "weORdZPqAW62"
   },
   "outputs": [],
   "source": [
    "x1 = x[:,0]\n",
    "x2 = x[:,1]"
   ]
  },
  {
   "cell_type": "code",
   "execution_count": 26,
   "metadata": {
    "colab": {
     "base_uri": "https://localhost:8080/",
     "height": 265
    },
    "id": "H2fQIxhZDJa2",
    "outputId": "a36348d9-1557-49d5-e7cd-249b74642a44"
   },
   "outputs": [
    {
     "data": {
      "image/png": "[encoded data removed]",
      "text/plain": [
       "<Figure size 432x288 with 1 Axes>"
      ]
     },
     "metadata": {
      "needs_background": "light",
      "tags": []
     },
     "output_type": "display_data"
    }
   ],
   "source": [
    "\n",
    "plt.scatter(x1,x2,s=5)\n",
    "\n",
    "plt.show()"
   ]
  },
  {
   "cell_type": "markdown",
   "metadata": {
    "id": "3OY0KOqzO7dy"
   },
   "source": [
    "## **Nearest Point Algorithm**\n",
    "\n",
    "<img src =\"https://online.stat.psu.edu/stat555/sites/onlinecourses.science.psu.edu.stat555/files/cluster/distance_matrix_01/index.png\">"
   ]
  },
  {
   "cell_type": "code",
   "execution_count": 27,
   "metadata": {
    "colab": {
     "base_uri": "https://localhost:8080/",
     "height": 840
    },
    "id": "S7fTugJUPG6y",
    "outputId": "1ecb42f0-6cf5-409a-ac17-2444f59a77fe"
   },
   "outputs": [
    {
     "name": "stdout",
     "output_type": "stream",
     "text": [
      "[[3.00000000e+00 4.20000000e+01 9.37760299e-02 2.00000000e+00]\n",
      " [9.00000000e+00 1.10000000e+01 1.36038091e-01 2.00000000e+00]\n",
      " [2.90000000e+01 3.00000000e+01 1.94292575e-01 2.00000000e+00]\n",
      " [1.90000000e+01 3.90000000e+01 2.78324735e-01 2.00000000e+00]\n",
      " [2.70000000e+01 3.40000000e+01 3.32984632e-01 2.00000000e+00]\n",
      " [6.00000000e+00 3.30000000e+01 3.82081416e-01 2.00000000e+00]\n",
      " [3.80000000e+01 5.00000000e+01 4.23381184e-01 3.00000000e+00]\n",
      " [1.20000000e+01 2.40000000e+01 4.83726191e-01 2.00000000e+00]\n",
      " [8.00000000e+00 5.30000000e+01 4.88227919e-01 3.00000000e+00]\n",
      " [1.50000000e+01 2.30000000e+01 5.03273835e-01 2.00000000e+00]\n",
      " [5.00000000e+00 4.60000000e+01 5.10065156e-01 2.00000000e+00]\n",
      " [1.00000000e+01 3.60000000e+01 5.64659279e-01 2.00000000e+00]\n",
      " [1.80000000e+01 4.10000000e+01 5.87101325e-01 2.00000000e+00]\n",
      " [3.70000000e+01 5.80000000e+01 6.20469773e-01 4.00000000e+00]\n",
      " [7.00000000e+00 3.20000000e+01 6.25022463e-01 2.00000000e+00]\n",
      " [1.30000000e+01 1.40000000e+01 6.35246237e-01 2.00000000e+00]\n",
      " [2.60000000e+01 5.40000000e+01 6.58928043e-01 3.00000000e+00]\n",
      " [4.40000000e+01 4.70000000e+01 7.15661301e-01 2.00000000e+00]\n",
      " [2.00000000e+00 4.00000000e+01 7.15723066e-01 2.00000000e+00]\n",
      " [3.10000000e+01 4.80000000e+01 7.39177490e-01 2.00000000e+00]\n",
      " [1.70000000e+01 4.30000000e+01 9.12075824e-01 2.00000000e+00]\n",
      " [4.50000000e+01 5.70000000e+01 9.34307493e-01 3.00000000e+00]\n",
      " [4.00000000e+00 2.00000000e+01 1.01493219e+00 2.00000000e+00]\n",
      " [1.60000000e+01 5.90000000e+01 1.03947189e+00 3.00000000e+00]\n",
      " [5.20000000e+01 5.50000000e+01 1.06842141e+00 4.00000000e+00]\n",
      " [5.10000000e+01 6.60000000e+01 1.14776983e+00 5.00000000e+00]\n",
      " [2.80000000e+01 6.10000000e+01 1.17176863e+00 3.00000000e+00]\n",
      " [3.50000000e+01 6.90000000e+01 1.21226047e+00 3.00000000e+00]\n",
      " [5.60000000e+01 6.80000000e+01 1.23050027e+00 5.00000000e+00]\n",
      " [1.00000000e+00 7.30000000e+01 1.24989478e+00 4.00000000e+00]\n",
      " [6.50000000e+01 6.70000000e+01 1.26439094e+00 4.00000000e+00]\n",
      " [0.00000000e+00 2.10000000e+01 1.28908732e+00 2.00000000e+00]\n",
      " [6.30000000e+01 7.10000000e+01 1.32575454e+00 7.00000000e+00]\n",
      " [6.00000000e+01 7.40000000e+01 1.48704619e+00 6.00000000e+00]\n",
      " [6.40000000e+01 7.00000000e+01 1.66206640e+00 4.00000000e+00]\n",
      " [6.20000000e+01 7.50000000e+01 1.98442010e+00 7.00000000e+00]\n",
      " [2.50000000e+01 7.60000000e+01 2.28739836e+00 4.00000000e+00]\n",
      " [7.70000000e+01 8.20000000e+01 2.30309216e+00 1.00000000e+01]\n",
      " [2.20000000e+01 8.00000000e+01 2.37109621e+00 5.00000000e+00]\n",
      " [7.80000000e+01 7.90000000e+01 2.70330925e+00 9.00000000e+00]\n",
      " [8.30000000e+01 8.80000000e+01 2.72287808e+00 1.10000000e+01]\n",
      " [7.20000000e+01 8.60000000e+01 3.18609061e+00 6.00000000e+00]\n",
      " [8.50000000e+01 8.70000000e+01 3.42226991e+00 1.70000000e+01]\n",
      " [4.90000000e+01 8.40000000e+01 3.64673170e+00 5.00000000e+00]\n",
      " [8.90000000e+01 9.30000000e+01 4.28513914e+00 1.40000000e+01]\n",
      " [9.00000000e+01 9.10000000e+01 4.84788624e+00 1.70000000e+01]\n",
      " [8.10000000e+01 9.40000000e+01 6.10202236e+00 1.60000000e+01]\n",
      " [9.20000000e+01 9.50000000e+01 8.72382622e+00 3.40000000e+01]\n",
      " [9.60000000e+01 9.70000000e+01 1.37557166e+01 5.00000000e+01]]\n"
     ]
    }
   ],
   "source": [
    "linkage_matrix = linkage(x,\"complete\")\n",
    "print(linkage_matrix)"
   ]
  },
  {
   "cell_type": "markdown",
   "metadata": {
    "id": "EztAqL_GPNEM"
   },
   "source": [
    "## **Pruning Tree Like Structure with Tuncade Mode**"
   ]
  },
  {
   "cell_type": "code",
   "execution_count": 28,
   "metadata": {
    "colab": {
     "base_uri": "https://localhost:8080/",
     "height": 282
    },
    "id": "48lpPyFzPNZo",
    "outputId": "2986cdfb-1bfc-4bb1-a971-e8b489b7a52a"
   },
   "outputs": [
    {
     "data": {
      "image/png": "[encoded data removed]",
      "text/plain": [
       "<Figure size 432x288 with 1 Axes>"
      ]
     },
     "metadata": {
      "needs_background": "light",
      "tags": []
     },
     "output_type": "display_data"
    }
   ],
   "source": [
    "dendrogram = dendrogram(linkage_matrix,truncate_mode=None)\n",
    "plt.title(\"Hierarchical Clustering\")\n",
    "plt.show()"
   ]
  }
 ],
 "metadata": {
  "colab": {
   "name": "17_Hierarchical_Clustering.ipynb",
   "provenance": []
  },
  "kernelspec": {
   "display_name": "Python 3",
   "language": "python",
   "name": "python3"
  },
  "language_info": {
   "codemirror_mode": {
    "name": "ipython",
    "version": 3
   },
   "file_extension": ".py",
   "mimetype": "text/x-python",
   "name": "python",
   "nbconvert_exporter": "python",
   "pygments_lexer": "ipython3",
   "version": "3.7.6"
  }
 },
 "nbformat": 4,
 "nbformat_minor": 1
}
