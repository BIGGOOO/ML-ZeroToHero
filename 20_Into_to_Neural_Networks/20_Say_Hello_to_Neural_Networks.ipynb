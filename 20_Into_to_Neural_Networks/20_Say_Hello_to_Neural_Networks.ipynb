{
 "cells": [
  {
   "cell_type": "markdown",
   "metadata": {
    "id": "6COCE2nsc2TY"
   },
   "source": [
    "## **Say Hello to Neural Networks**"
   ]
  },
  {
   "cell_type": "code",
   "execution_count": 1,
   "metadata": {
    "id": "pdXIb7IbcuRF"
   },
   "outputs": [],
   "source": [
    "import tensorflow as tf\n",
    "import numpy as np\n",
    "from tensorflow import keras"
   ]
  },
  {
   "cell_type": "markdown",
   "metadata": {
    "id": "tJXr05RPdOLy"
   },
   "source": [
    "## **Define and compile the neural network**\n",
    "Next, create the simplest possible neural network. It has one layer, that layer has one neuron, and the input shape to it is only one value."
   ]
  },
  {
   "cell_type": "code",
   "execution_count": 2,
   "metadata": {
    "id": "6AUk495pdIb3"
   },
   "outputs": [],
   "source": [
    "model = tf.keras.Sequential([keras.layers.Dense(units=1, input_shape=[1])])"
   ]
  },
  {
   "cell_type": "markdown",
   "metadata": {
    "id": "o7Yf22hKdUF2"
   },
   "source": [
    "Next, write the code to compile your neural network. When you do so, you need to specify two functions—a loss and an optimizer * * . * *\n",
    "\n",
    "In this example, you know that the relationship between the numbers is Y=3X+1.\n",
    "\n",
    "When the computer is trying to learn that, it makes a guess, maybe Y=10X+10. The loss function measures the guessed answers against the known correct answers and measures how well or badly it did.\n",
    "\n",
    "Next, the model uses the optimizer function to make another guess. Based on the loss function's result, it tries to minimize the loss. At this point, maybe it will come up with something like Y=5X+5. While that's still pretty bad, it's closer to the correct result (the loss is lower).\n",
    "\n",
    "The model repeats that for the number of epochs, which you'll see shortly.\n",
    "\n",
    "First, here's how to tell it to use **mean_squared_error** for the **loss** and **stochastic gradient descent (sgd)** for the **optimizer**. You don't need to understand the math for those yet, but you can see that they work!\n",
    "\n",
    "Over time, you'll learn the different and appropriate loss and optimizer functions for different scenarios."
   ]
  },
  {
   "cell_type": "code",
   "execution_count": 3,
   "metadata": {
    "id": "CjgSxvc7dcqn"
   },
   "outputs": [],
   "source": [
    "model.compile(optimizer='sgd', loss='mean_squared_error')"
   ]
  },
  {
   "cell_type": "markdown",
   "metadata": {
    "id": "7LYSFz-jdnxo"
   },
   "source": [
    "## **Provide the data**\n",
    "Next, feed some data. In this case, you're taking the six X‘s and six Y‘s from earlier. You can see that the relationship between those is that Y=3X+1, so where X is -1, Y is -2.\n",
    "\n",
    "A python library called NumPy provides lots of array type data structures that are a de facto standard way of doing it. Declare that you want to use those by specifying the values as an array in NumPy by using np.array[]."
   ]
  },
  {
   "cell_type": "code",
   "execution_count": 4,
   "metadata": {
    "id": "IWdz8mLGdrRu"
   },
   "outputs": [],
   "source": [
    "xs = np.array([-1.0, 0.0, 1.0, 2.0, 3.0, 4.0], dtype=float)\n",
    "ys = np.array([-2.0, 1.0, 4.0, 7.0, 10.0, 13.0], dtype=float)"
   ]
  },
  {
   "cell_type": "markdown",
   "metadata": {
    "id": "KnXLIy25dql0"
   },
   "source": [
    "## **Train the neural network**\n",
    "The process of training the neural network, where it learns the relationship between the X‘s and Y‘s, is in the model.fit call. That's where it will go through the loop before making a guess, measuring how good or bad it is (the loss), or using the optimizer to make another guess. It will do that for the number of epochs that you specify. When you run that code, you'll see the loss will be printed out for each epoch."
   ]
  },
  {
   "cell_type": "code",
   "execution_count": 28,
   "metadata": {
    "colab": {
     "base_uri": "https://localhost:8080/",
     "height": 1000
    },
    "id": "zJjdi-NsdyTh",
    "outputId": "93b408cf-8986-4b81-eed8-2a6e449a8c12"
   },
   "outputs": [
    {
     "name": "stdout",
     "output_type": "stream",
     "text": [
      "Epoch 1/10\n",
      "1/1 [==============================] - 0s 4ms/step - loss: 4.1249e-11\n",
      "Epoch 2/10\n",
      "1/1 [==============================] - 0s 4ms/step - loss: 4.1249e-11\n",
      "Epoch 3/10\n",
      "1/1 [==============================] - 0s 4ms/step - loss: 4.1249e-11\n",
      "Epoch 4/10\n",
      "1/1 [==============================] - 0s 5ms/step - loss: 4.1249e-11\n",
      "Epoch 5/10\n",
      "1/1 [==============================] - 0s 3ms/step - loss: 4.1249e-11\n",
      "Epoch 6/10\n",
      "1/1 [==============================] - 0s 7ms/step - loss: 4.1249e-11\n",
      "Epoch 7/10\n",
      "1/1 [==============================] - 0s 3ms/step - loss: 4.1249e-11\n",
      "Epoch 8/10\n",
      "1/1 [==============================] - 0s 4ms/step - loss: 4.1249e-11\n",
      "Epoch 9/10\n",
      "1/1 [==============================] - 0s 4ms/step - loss: 4.1249e-11\n",
      "Epoch 10/10\n",
      "1/1 [==============================] - 0s 4ms/step - loss: 4.1249e-11\n"
     ]
    },
    {
     "data": {
      "text/plain": [
       "<keras.callbacks.History at 0x7f39a8abfc10>"
      ]
     },
     "execution_count": 28,
     "metadata": {},
     "output_type": "execute_result"
    }
   ],
   "source": [
    "model.fit(xs, ys, epochs=10)"
   ]
  },
  {
   "cell_type": "markdown",
   "metadata": {
    "id": "vNXvqPUnd1IH"
   },
   "source": [
    "## **Prediction**"
   ]
  },
  {
   "cell_type": "code",
   "execution_count": 29,
   "metadata": {
    "colab": {
     "base_uri": "https://localhost:8080/",
     "height": 34
    },
    "id": "1M89-12Td3w1",
    "outputId": "339105aa-49c1-45f5-bbee-810a468f5446"
   },
   "outputs": [
    {
     "name": "stdout",
     "output_type": "stream",
     "text": [
      "[[39.999966]]\n"
     ]
    }
   ],
   "source": [
    "print(model.predict([13.0]))"
   ]
  },
  {
   "cell_type": "code",
   "execution_count": null,
   "metadata": {},
   "outputs": [],
   "source": []
  },
  {
   "cell_type": "code",
   "execution_count": null,
   "metadata": {},
   "outputs": [],
   "source": []
  }
 ],
 "metadata": {
  "colab": {
   "name": "20_Say_Hello_to Neural_Networks.ipynb",
   "provenance": []
  },
  "kernelspec": {
   "display_name": "Python 3",
   "language": "python",
   "name": "python3"
  },
  "language_info": {
   "codemirror_mode": {
    "name": "ipython",
    "version": 3
   },
   "file_extension": ".py",
   "mimetype": "text/x-python",
   "name": "python",
   "nbconvert_exporter": "python",
   "pygments_lexer": "ipython3",
   "version": "3.7.6"
  }
 },
 "nbformat": 4,
 "nbformat_minor": 1
}
