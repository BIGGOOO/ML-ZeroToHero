{
  "nbformat": 4,
  "nbformat_minor": 0,
  "metadata": {
    "colab": {
      "name": "24_Neural_Networks_from_Scratch.ipynb",
      "provenance": [],
      "collapsed_sections": []
    },
    "kernelspec": {
      "name": "python3",
      "display_name": "Python 3"
    }
  },
  "cells": [
    {
      "cell_type": "markdown",
      "metadata": {
        "id": "38iJSyoXhMHL"
      },
      "source": [
        "## **Neural Networks from Scratch**\n",
        "\n",
        "We have already build a few Neural Networks in recent workshops using Tensorflow. But that's a third party library which we are using to build neural networks. But to really understand Neural Networks we must code layers from scratch in Python, so our intuition regarding Neural Networks will have another strong grip. We will continue working with some advanced Neural Networks in Tensorflow in our coming workshops, but it'll be a fun and a good practice to see behind the scenes of so-called Neural Networks. \n",
        "\n",
        "---\n",
        "\n",
        "If you may remember the simplest equation of simple layer. \n",
        "\n",
        "***y = w1x1 + w2x2 + w3x3 + ... + wnxn + b***\n",
        "\n",
        "Where b = bias."
      ]
    },
    {
      "cell_type": "markdown",
      "metadata": {
        "id": "Ct5kD5ldAlLT"
      },
      "source": [
        "\n",
        "**Creates a basic neuron with 3 inputs.**"
      ]
    },
    {
      "cell_type": "code",
      "metadata": {
        "id": "FAxMNbvqhGoU",
        "outputId": "dabbe104-a285-4ba0-a548-c3956b9b98a8",
        "colab": {
          "base_uri": "https://localhost:8080/",
          "height": 34
        }
      },
      "source": [
        "#Assuming values\n",
        "\n",
        "inputs =  [1.2, 5.1, 2.1]    #Input Layer with 3 units or Neuron\n",
        "weights = [3.1, 2.1, 8.7]    #Weights of Vectors\n",
        "bias =    3.0                #Bias\n",
        "\n",
        "#Implementing that equation in code, which is obv not so hard, is it?\n",
        "\n",
        "output = inputs[0]*weights[0] + inputs[1]*weights[1] + inputs[2]*weights[2] + bias\n",
        "\n",
        "#By printing this we are getting to know that, what output this layer will generate\n",
        "print(output)"
      ],
      "execution_count": 1,
      "outputs": [
        {
          "output_type": "stream",
          "text": [
            "35.7\n"
          ],
          "name": "stdout"
        }
      ]
    },
    {
      "cell_type": "markdown",
      "metadata": {
        "id": "xd5aF07QjdZQ"
      },
      "source": [
        "**Creates a simple layer of neurons, with 4 inputs & 3 hidden layers**"
      ]
    },
    {
      "cell_type": "code",
      "metadata": {
        "id": "THWYwhFOjdkQ",
        "outputId": "ea4356d2-25dd-4bbf-aa1d-5e453977ee0c",
        "colab": {
          "base_uri": "https://localhost:8080/",
          "height": 34
        }
      },
      "source": [
        "inputs =   [1.0, 2.0, 3.0, 2.5]       #Input Layer with 4 units or Neurons\n",
        "\n",
        "weights1 = [0.2, 0.8, -0.5, 1.0]      \n",
        "                                      #Hidden Layer 1 with 4 units or Neurons\n",
        "weights2 = [0.5, -0.91, 0.26, -0.5]   \n",
        "                                      #Hidden Layer 2 with 4 units or Neurons\n",
        "weights3 = [-0.26, -0.27, 0.17, 0.87] \n",
        "                                      #Moving to Output Layer\n",
        "bias1 =    2.0\n",
        "bias2 =    3.0\n",
        "bias3 =    0.5\n",
        "\n",
        "output = [inputs[0]*weights1[0] + inputs[1]*weights1[1] + inputs[2]*weights1[2] + inputs[3]*weights1[3] + bias1,\n",
        "          inputs[0]*weights2[0] + inputs[1]*weights2[1] + inputs[2]*weights2[2] + inputs[3]*weights2[3] + bias2,\n",
        "          inputs[0]*weights3[0] + inputs[1]*weights3[1] + inputs[2]*weights3[2] + inputs[3]*weights3[3] + bias3]\n",
        "print(output)"
      ],
      "execution_count": 2,
      "outputs": [
        {
          "output_type": "stream",
          "text": [
            "[4.8, 1.21, 2.385]\n"
          ],
          "name": "stdout"
        }
      ]
    },
    {
      "cell_type": "markdown",
      "metadata": {
        "id": "DJpdLE64kgZC"
      },
      "source": [
        "**Doing dot product with a layer of neurons and multiple inputs**"
      ]
    },
    {
      "cell_type": "code",
      "metadata": {
        "id": "zLLBdowakgi5",
        "outputId": "4565dfaf-0d4c-47b8-df2a-380d794d064e",
        "colab": {
          "base_uri": "https://localhost:8080/",
          "height": 34
        }
      },
      "source": [
        "import numpy as np\n",
        "\n",
        "inputs =  [1.0, 2.0, 3.0, 2.5]\n",
        "weights = [[0.2, 0.8, -0.5, 1.0],\n",
        "           [0.5, -0.91, 0.26, -0.5],\n",
        "           [-0.26, -0.27, 0.17, 0.87]]\n",
        "\n",
        "biases =  [2.0, 3.0, 0.5]\n",
        "\n",
        "output =  np.dot(weights, inputs) + biases\n",
        "print(output)"
      ],
      "execution_count": 3,
      "outputs": [
        {
          "output_type": "stream",
          "text": [
            "[4.8   1.21  2.385]\n"
          ],
          "name": "stdout"
        }
      ]
    },
    {
      "cell_type": "markdown",
      "metadata": {
        "id": "wYJXQE-mk0eP"
      },
      "source": [
        "Layers and Objects"
      ]
    },
    {
      "cell_type": "code",
      "metadata": {
        "id": "pJD5H9XKk0pR",
        "outputId": "e0ab2a3d-6ba9-4421-c1f5-d5a503eaef36",
        "colab": {
          "base_uri": "https://localhost:8080/",
          "height": 151
        }
      },
      "source": [
        "import numpy as np \n",
        "\n",
        "np.random.seed(0)\n",
        "\n",
        "X = [[1, 2, 3, 2.5],\n",
        "     [2.0, 5.0, -1.0, 2.0],\n",
        "     [-1.5, 2.7, 3.3, -0.8]]\n",
        "\n",
        "\n",
        "class Layer_Dense:\n",
        "    def __init__(self, n_inputs, n_neurons):\n",
        "        self.weights = 0.10 * np.random.randn(n_inputs, n_neurons)\n",
        "        self.biases = np.zeros((1, n_neurons))\n",
        "    def forward(self, inputs):\n",
        "        self.output = np.dot(inputs, self.weights) + self.biases\n",
        "\n",
        "layer1 = Layer_Dense(4,5)\n",
        "layer2 = Layer_Dense(5,2)\n",
        "\n",
        "layer1.forward(X)\n",
        "print(\"Layer 01\\n\", layer1.output)\n",
        "layer2.forward(layer1.output)\n",
        "print(\"Layer 02\\n\",layer2.output)"
      ],
      "execution_count": 4,
      "outputs": [
        {
          "output_type": "stream",
          "text": [
            "Layer 01\n",
            " [[ 0.10758131  1.03983522  0.24462411  0.31821498  0.18851053]\n",
            " [-0.08349796  0.70846411  0.00293357  0.44701525  0.36360538]\n",
            " [-0.50763245  0.55688422  0.07987797 -0.34889573  0.04553042]]\n",
            "Layer 02\n",
            " [[ 0.148296   -0.08397602]\n",
            " [ 0.14100315 -0.01340469]\n",
            " [ 0.20124979 -0.07290616]]\n"
          ],
          "name": "stdout"
        }
      ]
    },
    {
      "cell_type": "markdown",
      "metadata": {
        "id": "HyNOB-_5k5yS"
      },
      "source": [
        "***All in one with hidden layer Activation function***"
      ]
    },
    {
      "cell_type": "code",
      "metadata": {
        "id": "7uxOlkO9lhgi",
        "outputId": "04c8f1ce-4501-41a2-c355-a063c150ee12",
        "colab": {
          "base_uri": "https://localhost:8080/",
          "height": 121
        }
      },
      "source": [
        "!pip install nnfs"
      ],
      "execution_count": 5,
      "outputs": [
        {
          "output_type": "stream",
          "text": [
            "Collecting nnfs\n",
            "  Downloading https://files.pythonhosted.org/packages/06/8c/3003a41d5229e65da792331b060dcad8100a0a5b9760f8c2074cde864148/nnfs-0.5.1-py3-none-any.whl\n",
            "Requirement already satisfied: numpy in /usr/local/lib/python3.6/dist-packages (from nnfs) (1.18.5)\n",
            "Installing collected packages: nnfs\n",
            "Successfully installed nnfs-0.5.1\n"
          ],
          "name": "stdout"
        }
      ]
    },
    {
      "cell_type": "code",
      "metadata": {
        "id": "EJbqTso_k57c",
        "outputId": "0d45611e-1b7f-4b61-df71-66c25e6f02f4",
        "colab": {
          "base_uri": "https://localhost:8080/",
          "height": 487
        }
      },
      "source": [
        "import numpy as np \n",
        "import nnfs\n",
        "from nnfs.datasets import spiral_data  # See for code: https://gist.github.com/Sentdex/454cb20ec5acf0e76ee8ab8448e6266c\n",
        "\n",
        "nnfs.init()\n",
        "\n",
        "X, y = spiral_data(100, 3)   \n",
        "\n",
        "\n",
        "class Layer_Dense:\n",
        "    def __init__(self, n_inputs, n_neurons):\n",
        "        self.weights = 0.10 * np.random.randn(n_inputs, n_neurons)\n",
        "        self.biases = np.zeros((1, n_neurons))\n",
        "    def forward(self, inputs):\n",
        "        self.output = np.dot(inputs, self.weights) + self.biases\n",
        "\n",
        "\n",
        "class Activation_ReLU:\n",
        "    def forward(self, inputs):\n",
        "        self.output = np.maximum(0, inputs)\n",
        "\n",
        "\n",
        "layer1 = Layer_Dense(2,5)\n",
        "activation1 = Activation_ReLU()\n",
        "\n",
        "layer1.forward(X)\n",
        "\n",
        "print(\"Layer 01\\n\",layer1.output)\n",
        "activation1.forward(layer1.output)\n",
        "print(\"Layer 02\\n\",activation1.output)"
      ],
      "execution_count": 6,
      "outputs": [
        {
          "output_type": "stream",
          "text": [
            "Layer 01\n",
            " [[ 0.00000000e+00  0.00000000e+00  0.00000000e+00  0.00000000e+00\n",
            "   0.00000000e+00]\n",
            " [-8.35815910e-04 -7.90404272e-04 -1.33452227e-03  4.65504505e-04\n",
            "   4.56846210e-05]\n",
            " [-2.39994470e-03  5.93469958e-05 -2.24808278e-03  2.03573116e-04\n",
            "   6.10024377e-04]\n",
            " ...\n",
            " [ 1.13291524e-01 -1.89262271e-01 -2.06855070e-02  8.11079666e-02\n",
            "  -6.71350807e-02]\n",
            " [ 1.34588361e-01 -1.43197834e-01  3.09493970e-02  5.66337556e-02\n",
            "  -6.29687458e-02]\n",
            " [ 1.07817926e-01 -2.00809643e-01 -3.37579325e-02  8.72561932e-02\n",
            "  -6.81458861e-02]]\n",
            "Layer 02\n",
            " [[0.00000000e+00 0.00000000e+00 0.00000000e+00 0.00000000e+00\n",
            "  0.00000000e+00]\n",
            " [0.00000000e+00 0.00000000e+00 0.00000000e+00 4.65504505e-04\n",
            "  4.56846210e-05]\n",
            " [0.00000000e+00 5.93469958e-05 0.00000000e+00 2.03573116e-04\n",
            "  6.10024377e-04]\n",
            " ...\n",
            " [1.13291524e-01 0.00000000e+00 0.00000000e+00 8.11079666e-02\n",
            "  0.00000000e+00]\n",
            " [1.34588361e-01 0.00000000e+00 3.09493970e-02 5.66337556e-02\n",
            "  0.00000000e+00]\n",
            " [1.07817926e-01 0.00000000e+00 0.00000000e+00 8.72561932e-02\n",
            "  0.00000000e+00]]\n"
          ],
          "name": "stdout"
        }
      ]
    }
  ]
}