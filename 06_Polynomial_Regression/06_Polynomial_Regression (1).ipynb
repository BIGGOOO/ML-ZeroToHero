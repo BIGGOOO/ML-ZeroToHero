{
  "nbformat": 4,
  "nbformat_minor": 0,
  "metadata": {
    "colab": {
      "name": "06_Polynomial_Regression.ipynb",
      "provenance": [],
      "collapsed_sections": []
    },
    "kernelspec": {
      "name": "python3",
      "display_name": "Python 3"
    }
  },
  "cells": [
    {
      "cell_type": "markdown",
      "metadata": {
        "id": "bd99GCamF_BZ"
      },
      "source": [
        "# **Polynomial Regression**\n",
        "\n",
        "Polynomial Regression is a form of linear regression in which the relationship between the independent variable x and dependent variable y is modeled as an nth degree polynomial. Polynomial regression fits a nonlinear relationship between the value of x and the corresponding conditional mean of y\n",
        "\n",
        "<img src=\"https://static.javatpoint.com/tutorial/machine-learning/images/machine-learning-polynomial-regression.png\">\n",
        "\n",
        "<img src=\"https://raw.githubusercontent.com/mhuzaifadev/ml_zero_to_hero/master/POLY.png?token=AMSGSQ6JSER2XWQBDSHTBTS7N4KXY\">\n",
        "\n",
        "\n",
        "\n",
        "\n",
        "\n"
      ]
    },
    {
      "cell_type": "markdown",
      "metadata": {
        "id": "7PbIXRs_4Fus"
      },
      "source": [
        "## **Getting Started with Polynomial Regression**"
      ]
    },
    {
      "cell_type": "code",
      "metadata": {
        "id": "J_SgWUK6DBJC"
      },
      "source": [
        "#importing libraries\n",
        "\n",
        "import numpy as np\n",
        "import pandas as pd\n",
        "import matplotlib.pyplot as plt\n",
        "from sklearn.linear_model import LinearRegression\n",
        "from sklearn.metrics import mean_squared_error\n",
        "from sklearn.preprocessing import PolynomialFeatures\n",
        "from sklearn.model_selection import train_test_split\n",
        "import math"
      ],
      "execution_count": 92,
      "outputs": []
    },
    {
      "cell_type": "markdown",
      "metadata": {
        "id": "yLyQEX_PxPCI"
      },
      "source": [
        "## **DataFraming**\n",
        "\n",
        "Read .csv data into a DataFrame"
      ]
    },
    {
      "cell_type": "code",
      "metadata": {
        "id": "khIuVsjiHn_1",
        "outputId": "90a43227-3f68-4026-e7ab-22dbb5410cd5",
        "colab": {
          "base_uri": "https://localhost:8080/",
          "height": 198
        }
      },
      "source": [
        "dataset = pd.read_csv(\"/content/sample_data/Drugs_Performance.csv\")\n",
        "dataset.head()"
      ],
      "execution_count": 93,
      "outputs": [
        {
          "output_type": "execute_result",
          "data": {
            "text/html": [
              "<div>\n",
              "<style scoped>\n",
              "    .dataframe tbody tr th:only-of-type {\n",
              "        vertical-align: middle;\n",
              "    }\n",
              "\n",
              "    .dataframe tbody tr th {\n",
              "        vertical-align: top;\n",
              "    }\n",
              "\n",
              "    .dataframe thead th {\n",
              "        text-align: right;\n",
              "    }\n",
              "</style>\n",
              "<table border=\"1\" class=\"dataframe\">\n",
              "  <thead>\n",
              "    <tr style=\"text-align: right;\">\n",
              "      <th></th>\n",
              "      <th>Age</th>\n",
              "      <th>Drugs_Perf</th>\n",
              "    </tr>\n",
              "  </thead>\n",
              "  <tbody>\n",
              "    <tr>\n",
              "      <th>0</th>\n",
              "      <td>1</td>\n",
              "      <td>1.166667</td>\n",
              "    </tr>\n",
              "    <tr>\n",
              "      <th>1</th>\n",
              "      <td>2</td>\n",
              "      <td>1.833333</td>\n",
              "    </tr>\n",
              "    <tr>\n",
              "      <th>2</th>\n",
              "      <td>3</td>\n",
              "      <td>2.833333</td>\n",
              "    </tr>\n",
              "    <tr>\n",
              "      <th>3</th>\n",
              "      <td>4</td>\n",
              "      <td>4.166667</td>\n",
              "    </tr>\n",
              "    <tr>\n",
              "      <th>4</th>\n",
              "      <td>5</td>\n",
              "      <td>5.833333</td>\n",
              "    </tr>\n",
              "  </tbody>\n",
              "</table>\n",
              "</div>"
            ],
            "text/plain": [
              "   Age  Drugs_Perf\n",
              "0    1    1.166667\n",
              "1    2    1.833333\n",
              "2    3    2.833333\n",
              "3    4    4.166667\n",
              "4    5    5.833333"
            ]
          },
          "metadata": {
            "tags": []
          },
          "execution_count": 93
        }
      ]
    },
    {
      "cell_type": "code",
      "metadata": {
        "id": "_M2YM7oaEeEi",
        "outputId": "95071770-ff14-4df8-b5ad-05ef1116ad34",
        "colab": {
          "base_uri": "https://localhost:8080/",
          "height": 1000
        }
      },
      "source": [
        "X = dataset[[\"Age\"]].values\n",
        "y = dataset[[\"Drugs_Perf\"]].values\n",
        "print(X)\n",
        "print(y)"
      ],
      "execution_count": 94,
      "outputs": [
        {
          "output_type": "stream",
          "text": [
            "[[ 1]\n",
            " [ 2]\n",
            " [ 3]\n",
            " [ 4]\n",
            " [ 5]\n",
            " [ 6]\n",
            " [ 7]\n",
            " [ 8]\n",
            " [ 9]\n",
            " [10]\n",
            " [11]\n",
            " [12]\n",
            " [13]\n",
            " [14]\n",
            " [15]\n",
            " [16]\n",
            " [17]\n",
            " [18]\n",
            " [19]\n",
            " [20]\n",
            " [21]\n",
            " [22]\n",
            " [23]\n",
            " [24]\n",
            " [25]\n",
            " [26]\n",
            " [27]\n",
            " [28]\n",
            " [29]\n",
            " [30]\n",
            " [31]\n",
            " [32]\n",
            " [33]\n",
            " [34]\n",
            " [35]\n",
            " [36]\n",
            " [37]\n",
            " [38]\n",
            " [39]\n",
            " [40]\n",
            " [41]\n",
            " [42]\n",
            " [43]\n",
            " [44]\n",
            " [45]\n",
            " [46]\n",
            " [47]\n",
            " [48]\n",
            " [49]\n",
            " [50]\n",
            " [51]\n",
            " [52]\n",
            " [53]\n",
            " [54]\n",
            " [55]\n",
            " [56]\n",
            " [57]\n",
            " [58]\n",
            " [59]\n",
            " [60]\n",
            " [61]\n",
            " [62]\n",
            " [63]\n",
            " [64]\n",
            " [65]\n",
            " [66]\n",
            " [67]\n",
            " [68]\n",
            " [69]\n",
            " [70]\n",
            " [71]\n",
            " [72]\n",
            " [73]\n",
            " [74]\n",
            " [75]\n",
            " [76]\n",
            " [77]\n",
            " [78]\n",
            " [79]\n",
            " [80]\n",
            " [81]\n",
            " [82]\n",
            " [83]\n",
            " [84]]\n",
            "[[1.16666667e+00]\n",
            " [1.83333333e+00]\n",
            " [2.83333333e+00]\n",
            " [4.16666667e+00]\n",
            " [5.83333333e+00]\n",
            " [7.83333333e+00]\n",
            " [1.01666667e+01]\n",
            " [1.28333333e+01]\n",
            " [1.58333333e+01]\n",
            " [1.91666667e+01]\n",
            " [2.28333333e+01]\n",
            " [2.68333333e+01]\n",
            " [3.11666667e+01]\n",
            " [3.58333333e+01]\n",
            " [4.08333333e+01]\n",
            " [4.61666667e+01]\n",
            " [5.18333333e+01]\n",
            " [5.78333333e+01]\n",
            " [6.41666667e+01]\n",
            " [7.08333333e+01]\n",
            " [7.78333333e+01]\n",
            " [8.51666667e+01]\n",
            " [9.28333333e+01]\n",
            " [1.00833333e+02]\n",
            " [1.09166667e+02]\n",
            " [1.17833333e+02]\n",
            " [1.26833333e+02]\n",
            " [1.36166667e+02]\n",
            " [1.45833333e+02]\n",
            " [1.55833333e+02]\n",
            " [1.66166667e+02]\n",
            " [1.76833333e+02]\n",
            " [1.87833333e+02]\n",
            " [1.99166667e+02]\n",
            " [2.10833333e+02]\n",
            " [2.22833333e+02]\n",
            " [2.35166667e+02]\n",
            " [2.47833333e+02]\n",
            " [2.60833333e+02]\n",
            " [2.74166667e+02]\n",
            " [2.87833333e+02]\n",
            " [3.01833333e+02]\n",
            " [3.16166667e+02]\n",
            " [3.30833333e+02]\n",
            " [3.45833333e+02]\n",
            " [3.61166667e+02]\n",
            " [3.76833333e+02]\n",
            " [3.92833333e+02]\n",
            " [4.09166667e+02]\n",
            " [4.25833333e+02]\n",
            " [4.42833333e+02]\n",
            " [4.60166667e+02]\n",
            " [4.77833333e+02]\n",
            " [4.95833333e+02]\n",
            " [5.14166667e+02]\n",
            " [5.32833333e+02]\n",
            " [5.51833333e+02]\n",
            " [5.71166667e+02]\n",
            " [5.90833333e+02]\n",
            " [6.10833333e+02]\n",
            " [6.31166667e+02]\n",
            " [6.51833333e+02]\n",
            " [6.72833333e+02]\n",
            " [6.94166667e+02]\n",
            " [7.15833333e+02]\n",
            " [7.37833333e+02]\n",
            " [7.60166667e+02]\n",
            " [7.82833333e+02]\n",
            " [8.05833333e+02]\n",
            " [8.29166667e+02]\n",
            " [8.52833333e+02]\n",
            " [8.76833333e+02]\n",
            " [9.01166667e+02]\n",
            " [9.25833333e+02]\n",
            " [9.50833333e+02]\n",
            " [9.76166667e+02]\n",
            " [1.00183333e+03]\n",
            " [1.02783333e+03]\n",
            " [1.05416667e+03]\n",
            " [1.08083333e+03]\n",
            " [1.10783333e+03]\n",
            " [1.13516667e+03]\n",
            " [1.16283333e+03]\n",
            " [1.19083333e+03]]\n"
          ],
          "name": "stdout"
        }
      ]
    },
    {
      "cell_type": "code",
      "metadata": {
        "id": "u_Vbl64jGP9O",
        "outputId": "9607d888-5073-4e97-e894-767139dbbca2",
        "colab": {
          "base_uri": "https://localhost:8080/",
          "height": 279
        }
      },
      "source": [
        "plt.plot(X,y)\n",
        "plt.xlabel(\"Age\")\n",
        "plt.ylabel(\"Drugs_Perf\")\n",
        "plt.show()"
      ],
      "execution_count": 95,
      "outputs": [
        {
          "output_type": "display_data",
          "data": {
            "image/png": "[encoded data removed]",
            "text/plain": [
              "<Figure size 432x288 with 1 Axes>"
            ]
          },
          "metadata": {
            "tags": [],
            "needs_background": "light"
          }
        }
      ]
    },
    {
      "cell_type": "markdown",
      "metadata": {
        "id": "dEHG0J86NIw1"
      },
      "source": [
        "## **Splitting Data: Training and Test Set**"
      ]
    },
    {
      "cell_type": "code",
      "metadata": {
        "id": "oN0U7bqHNI0n"
      },
      "source": [
        "X_train, X_test, Y_train, Y_test = train_test_split(X,y, test_size=0.2)"
      ],
      "execution_count": 96,
      "outputs": []
    },
    {
      "cell_type": "markdown",
      "metadata": {
        "id": "x0B2s2moNI0m"
      },
      "source": [
        "## **Preprocessing: Polynomial Features**\n",
        "\n",
        "Prrocessing or optimizing our data for nth ploynomial features"
      ]
    },
    {
      "cell_type": "code",
      "metadata": {
        "id": "5z-BK-IuNIw2",
        "outputId": "addb95b4-8d11-45e8-fa90-9b48d8d35cda",
        "colab": {
          "base_uri": "https://localhost:8080/",
          "height": 54
        }
      },
      "source": [
        "poly = PolynomialFeatures(degree = 2)\n",
        "X_poly = poly.fit_transform(X_train)\n",
        "poly.fit(X_poly, Y_train)"
      ],
      "execution_count": 97,
      "outputs": [
        {
          "output_type": "execute_result",
          "data": {
            "text/plain": [
              "PolynomialFeatures(degree=2, include_bias=True, interaction_only=False,\n",
              "                   order='C')"
            ]
          },
          "metadata": {
            "tags": []
          },
          "execution_count": 97
        }
      ]
    },
    {
      "cell_type": "markdown",
      "metadata": {
        "id": "c-QrCzDLxjNq"
      },
      "source": [
        "## **Training the Model**\n",
        "We are using Linear regression model as imported from sklearn library and then it's being trained on x and y (any 2 major axis of datasets)"
      ]
    },
    {
      "cell_type": "code",
      "metadata": {
        "id": "t-XSS-hbHsTt",
        "outputId": "0124eadc-6ef7-47a8-e72c-677bc46959c1",
        "colab": {
          "base_uri": "https://localhost:8080/",
          "height": 35
        }
      },
      "source": [
        "model = LinearRegression()\n",
        "model.fit(X_poly,Y_train)"
      ],
      "execution_count": 98,
      "outputs": [
        {
          "output_type": "execute_result",
          "data": {
            "text/plain": [
              "LinearRegression(copy_X=True, fit_intercept=True, n_jobs=None, normalize=False)"
            ]
          },
          "metadata": {
            "tags": []
          },
          "execution_count": 98
        }
      ]
    },
    {
      "cell_type": "markdown",
      "metadata": {
        "id": "vtOVG5e0z6yJ"
      },
      "source": [
        "## **Visualization**\n",
        "\n",
        "Visualize the dataset with the fit model using matplotlib."
      ]
    },
    {
      "cell_type": "code",
      "metadata": {
        "id": "QPF_5hXJHsb9",
        "outputId": "f3f54b45-a588-4a9a-bb85-5711ad460754",
        "colab": {
          "base_uri": "https://localhost:8080/",
          "height": 313
        }
      },
      "source": [
        "plt.scatter(X,y, color = 'orange')\n",
        "plt.plot(X,model.predict(poly.fit_transform(X)), color = 'black')\n",
        "plt.title('Polynomial Regression')\n",
        "plt.xlabel('Age')\n",
        "plt.ylabel('Drugs Performance')"
      ],
      "execution_count": 99,
      "outputs": [
        {
          "output_type": "execute_result",
          "data": {
            "text/plain": [
              "Text(0, 0.5, 'Drugs Performance')"
            ]
          },
          "metadata": {
            "tags": []
          },
          "execution_count": 99
        },
        {
          "output_type": "display_data",
          "data": {
            "image/png": "[encoded data removed]",
            "text/plain": [
              "<Figure size 432x288 with 1 Axes>"
            ]
          },
          "metadata": {
            "tags": [],
            "needs_background": "light"
          }
        }
      ]
    },
    {
      "cell_type": "markdown",
      "metadata": {
        "id": "pEUC4ruW0Ket"
      },
      "source": [
        "## **Prediction**\n",
        "We will predict the Brain weight by giving an input of Brain Size"
      ]
    },
    {
      "cell_type": "code",
      "metadata": {
        "id": "DUr0fLtVIDfE",
        "outputId": "e7df94cc-50df-4702-bfd5-edfe6a723150",
        "colab": {
          "base_uri": "https://localhost:8080/",
          "height": 326
        }
      },
      "source": [
        "print('Prediction by the model:\\t', model.predict(poly.fit_transform(X_test)))"
      ],
      "execution_count": 100,
      "outputs": [
        {
          "output_type": "stream",
          "text": [
            "Prediction by the model:\t [[ 876.83333324]\n",
            " [  46.16666667]\n",
            " [ 145.83333335]\n",
            " [ 166.16666668]\n",
            " [ 330.83333333]\n",
            " [ 901.16666656]\n",
            " [ 829.16666658]\n",
            " [ 274.16666667]\n",
            " [1054.16666653]\n",
            " [  10.16666664]\n",
            " [   1.16666662]\n",
            " [ 651.83333328]\n",
            " [ 235.16666668]\n",
            " [   2.8333333 ]\n",
            " [ 316.16666667]\n",
            " [  22.83333332]\n",
            " [ 109.16666668]]\n"
          ],
          "name": "stdout"
        }
      ]
    }
  ]
}