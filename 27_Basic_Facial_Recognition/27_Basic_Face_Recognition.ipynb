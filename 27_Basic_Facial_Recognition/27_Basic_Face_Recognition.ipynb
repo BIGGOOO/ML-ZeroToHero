{
  "nbformat": 4,
  "nbformat_minor": 0,
  "metadata": {
    "colab": {
      "name": "27_Basic_Face_Recognition.ipynb",
      "provenance": []
    },
    "kernelspec": {
      "name": "python3",
      "display_name": "Python 3"
    },
    "accelerator": "GPU"
  },
  "cells": [
    {
      "cell_type": "markdown",
      "metadata": {
        "id": "n3IIac7GSVjP"
      },
      "source": [
        "## **Facial Recognition System**\n",
        "\n",
        "\n",
        "Let's just simply understand the difference.\n",
        "<img src = \"https://images.squarespace-cdn.com/content/56fbbea286db438eca867c34/1560417382045-CHV2HVSOYFP4RDRYD4W0/FaceDetect-vs-FacialRecog.jpg?content-type=image%2Fjpeg\">"
      ]
    },
    {
      "cell_type": "code",
      "metadata": {
        "id": "pshDkWdyVYvy"
      },
      "source": [
        "!pip install face_recognition"
      ],
      "execution_count": null,
      "outputs": []
    },
    {
      "cell_type": "code",
      "metadata": {
        "id": "sDlrfCwtPIIP"
      },
      "source": [
        "from google.colab import drive\n",
        "drive.mount('/content/drive')"
      ],
      "execution_count": null,
      "outputs": []
    },
    {
      "cell_type": "markdown",
      "metadata": {
        "id": "rF-BTaHyborv"
      },
      "source": [
        "# **Training Images**"
      ]
    },
    {
      "cell_type": "code",
      "metadata": {
        "id": "CjXPiwpeVba3"
      },
      "source": [
        "import face_recognition\n",
        "import numpy as np\n",
        "from PIL import Image, ImageDraw\n",
        "from IPython.display import display\n",
        "from google.colab.patches import cv2_imshow\n",
        "import cv2\n",
        "import os\n",
        "from datetime import datetime\n",
        "\n",
        "\n",
        "face_1 = face_recognition.load_image_file(\"/content/drive/My Drive/Faces/elonmusk.jpg\")\n",
        "face_1_encoding = face_recognition.face_encodings(face_1)[0]\n",
        "\n",
        "face_2 = face_recognition.load_image_file(\"/content/drive/My Drive/Faces/emmawatson.jpg\")\n",
        "face_2_encoding = face_recognition.face_encodings(face_2)[0]\n",
        "\n",
        "face_3 = face_recognition.load_image_file(\"/content/drive/My Drive/Faces/robertdownyjr.jpg\")\n",
        "face_3_encoding = face_recognition.face_encodings(face_3)[0]\n",
        "\n",
        "face_4 = face_recognition.load_image_file(\"/content/drive/My Drive/Faces/sundarpichai.jpg\")\n",
        "face_4_encoding = face_recognition.face_encodings(face_3)[0]\n",
        "\n",
        "known_face_encodings = [\n",
        "    face_1_encoding,\n",
        "    face_2_encoding,\n",
        "    face_3_encoding,\n",
        "    face_4_encoding,\n",
        "]\n",
        "known_face_names = [\n",
        "    \"Elon Musk\",\n",
        "    \"Emma Watson\",\n",
        "    \"Robert Downy Jr.\",\n",
        "    \"Sundar Pichai\"\n",
        "]\n",
        "\n",
        "print(\"Done learning and creating profiles\")"
      ],
      "execution_count": null,
      "outputs": []
    },
    {
      "cell_type": "markdown",
      "metadata": {
        "id": "1H9QzThobuSw"
      },
      "source": [
        "# **Initializing function to add names to the \"attendance_list.csv\" file**"
      ]
    },
    {
      "cell_type": "code",
      "metadata": {
        "id": "GVEbG_BiZC-8"
      },
      "source": [
        "def makeAttendanceEntry(name):\n",
        "    with open('/content/drive/My Drive/Faces/attendance_list.csv','r+') as FILE: #Opening file for reading and writing\n",
        "        allLines = FILE.readlines()  # All rows will be saved in All lines\n",
        "        attendanceList = []\n",
        "        for line in allLines:\n",
        "            entry = line.split(',')\n",
        "            attendanceList.append(entry[0])\n",
        "        #if name not in attendanceList:\n",
        "        now = datetime.now()\n",
        "        dtString = now.strftime('%d/%b/%Y, %H:%M:%S')\n",
        "        FILE.writelines(f'\\n{name},{dtString}')"
      ],
      "execution_count": null,
      "outputs": []
    },
    {
      "cell_type": "markdown",
      "metadata": {
        "id": "FvNxvs5zb42r"
      },
      "source": [
        "# **Performing Face Recognition and Entering Attendance with time-stamp**"
      ]
    },
    {
      "cell_type": "code",
      "metadata": {
        "id": "W4VTNtaUVfwm"
      },
      "source": [
        "file_name = \"/content/drive/My Drive/Faces/Unknowns/unknown02.jpg\"\n",
        "unknown_image = face_recognition.load_image_file(file_name)\n",
        "unknown_image_to_draw = cv2.imread(file_name)\n",
        "\n",
        "face_locations = face_recognition.face_locations(unknown_image)\n",
        "face_encodings = face_recognition.face_encodings(unknown_image, face_locations)\n",
        "\n",
        "pil_image = Image.fromarray(unknown_image)\n",
        "draw = ImageDraw.Draw(pil_image)\n",
        "\n",
        "for (top, right, bottom, left), face_encoding in zip(face_locations, face_encodings):\n",
        "    # See if the face is a match for the known face(s)\n",
        "    matches = face_recognition.compare_faces(known_face_encodings, face_encoding)\n",
        "\n",
        "    name = \"Unknown\"\n",
        "\n",
        "    face_distances = face_recognition.face_distance(known_face_encodings, face_encoding)\n",
        "    best_match_index = np.argmin(face_distances)\n",
        "    if matches[best_match_index]:\n",
        "        name = known_face_names[best_match_index]\n",
        "\n",
        "    # Draw a box around the face using the Pillow module\n",
        "    cv2.rectangle(unknown_image_to_draw,(left, top), (right, bottom), (0,255,0),3 )\n",
        "    draw.rectangle(((left, top), (right, bottom)), outline=(0, 255, 255))\n",
        "    cv2.putText(unknown_image_to_draw,name,(left,top-20), cv2.FONT_HERSHEY_SIMPLEX,1, (0,0,255), 2,cv2.LINE_AA)\n",
        "    print(name)\n",
        "    makeAttendanceEntry(name)\n",
        "\n",
        "# display(pil_image)\n",
        "cv2_imshow(unknown_image_to_draw)"
      ],
      "execution_count": null,
      "outputs": []
    },
    {
      "cell_type": "markdown",
      "metadata": {
        "id": "U-iKoT_aXj1P"
      },
      "source": [
        "## **Just Explore Attendance Sheet**"
      ]
    },
    {
      "cell_type": "code",
      "metadata": {
        "id": "qw4bTROpWzi3"
      },
      "source": [
        "import pandas as pd\n",
        "\n",
        "sheet = pd.read_csv(\"/content/drive/My Drive/Faces/attendance_list.csv\", header=None)\n",
        "sheet.columns = [\"Names\", \"Date\", \"Time\"]\n",
        "sheet.head()"
      ],
      "execution_count": null,
      "outputs": []
    }
  ]
}